{
 "cells": [
  {
   "cell_type": "markdown",
   "id": "b38039f7",
   "metadata": {},
   "source": [
    "# M508 Individual final project - Léonie Lavaert"
   ]
  },
  {
   "cell_type": "markdown",
   "id": "13be1789",
   "metadata": {},
   "source": [
    "## Introduction"
   ]
  },
  {
   "cell_type": "markdown",
   "id": "e21c066a",
   "metadata": {},
   "source": [
    "Natural language processing makes it possible to execute sentiment analysis. With the help of machine learning, businesses can analyze text and classify them into groups of positive or negative sentiments towards their product or service. With the help of this information, companies can improve the products or services, help the customers more accurately and enhance customer loyalty. Historical data makes it also possible to predict future customer actions and behavior, which makes it possible for a company to anticipate and work toward positive sentiments (Robinson, 2021). With the help of APIs of social media platforms, web scraping tools and existing open-source repositories of data it is possible to collect the data to create the model (Saurabhk, 2020). "
   ]
  },
  {
   "cell_type": "markdown",
   "id": "a2f8170a",
   "metadata": {},
   "source": [
    "Spotify is one of the biggest music streaming platforms in terms of subscribers (Iqbal, 2022). While having almost 422 users in 2022, the user experience and sentiment of the customers are extremely important for the success of the company. Therefore a sentiment analysis of reviews given in the Google Play Store is performed in this pipeline. Text classification will make it possible to classify reviews into different categories of sentiment."
   ]
  },
  {
   "cell_type": "markdown",
   "id": "822bbce5",
   "metadata": {},
   "source": [
    "## System design"
   ]
  },
  {
   "cell_type": "markdown",
   "id": "b73bc920",
   "metadata": {},
   "source": [
    "In the first step, all the needed libraries are imported. They are required to have a functional model. In the second step, data is collected and explored. The dataset that was used can be found on Kaggle and is loaded in. After loading the data, the data is explored. In the third step, the data is preprocessed. First, the most important features are selected. Then, the text is preprocessed by removing punctuations, stop words, and many other things to improve the performance of the NLP model. In the fourth step, the text is vectorized before training and testing the model in the last steps. "
   ]
  },
  {
   "cell_type": "markdown",
   "id": "3a4295e7",
   "metadata": {},
   "source": [
    "## Importing libraries"
   ]
  },
  {
   "cell_type": "code",
   "execution_count": 55,
   "id": "50abbf2b",
   "metadata": {},
   "outputs": [],
   "source": [
    "import pandas as pd\n",
    "import matplotlib.pyplot as plt\n",
    "import plotly.express as px\n",
    "import numpy as np\n",
    "import nltk\n",
    "import sklearn.model_selection\n",
    "import sklearn.feature_extraction.text\n",
    "import sklearn.ensemble\n",
    "import sklearn.linear_model\n",
    "import sklearn.neural_network\n",
    "import imblearn.over_sampling"
   ]
  },
  {
   "cell_type": "markdown",
   "id": "f3219c6c",
   "metadata": {},
   "source": [
    "## Data collection"
   ]
  },
  {
   "cell_type": "markdown",
   "id": "e5c3f9cb",
   "metadata": {},
   "source": [
    "The used dataset can be found on Kaggle and accessed through the following URL: https://www.kaggle.com/datasets/mfaaris/spotify-app-reviews-2022. This dataset is loaded, in the next step."
   ]
  },
  {
   "cell_type": "markdown",
   "id": "56adb21d",
   "metadata": {},
   "source": [
    "### Loading dataset"
   ]
  },
  {
   "cell_type": "code",
   "execution_count": 2,
   "id": "8f96219a",
   "metadata": {},
   "outputs": [
    {
     "data": {
      "text/html": [
       "<div>\n",
       "<style scoped>\n",
       "    .dataframe tbody tr th:only-of-type {\n",
       "        vertical-align: middle;\n",
       "    }\n",
       "\n",
       "    .dataframe tbody tr th {\n",
       "        vertical-align: top;\n",
       "    }\n",
       "\n",
       "    .dataframe thead th {\n",
       "        text-align: right;\n",
       "    }\n",
       "</style>\n",
       "<table border=\"1\" class=\"dataframe\">\n",
       "  <thead>\n",
       "    <tr style=\"text-align: right;\">\n",
       "      <th></th>\n",
       "      <th>Time_submitted</th>\n",
       "      <th>Review</th>\n",
       "      <th>Rating</th>\n",
       "      <th>Total_thumbsup</th>\n",
       "      <th>Reply</th>\n",
       "    </tr>\n",
       "  </thead>\n",
       "  <tbody>\n",
       "    <tr>\n",
       "      <th>0</th>\n",
       "      <td>2022-07-09 15:00:00</td>\n",
       "      <td>Great music service, the audio is high quality...</td>\n",
       "      <td>5</td>\n",
       "      <td>2</td>\n",
       "      <td>NaN</td>\n",
       "    </tr>\n",
       "    <tr>\n",
       "      <th>1</th>\n",
       "      <td>2022-07-09 14:21:22</td>\n",
       "      <td>Please ignore previous negative rating. This a...</td>\n",
       "      <td>5</td>\n",
       "      <td>1</td>\n",
       "      <td>NaN</td>\n",
       "    </tr>\n",
       "    <tr>\n",
       "      <th>2</th>\n",
       "      <td>2022-07-09 13:27:32</td>\n",
       "      <td>This pop-up \"Get the best Spotify experience o...</td>\n",
       "      <td>4</td>\n",
       "      <td>0</td>\n",
       "      <td>NaN</td>\n",
       "    </tr>\n",
       "    <tr>\n",
       "      <th>3</th>\n",
       "      <td>2022-07-09 13:26:45</td>\n",
       "      <td>Really buggy and terrible to use as of recently</td>\n",
       "      <td>1</td>\n",
       "      <td>1</td>\n",
       "      <td>NaN</td>\n",
       "    </tr>\n",
       "    <tr>\n",
       "      <th>4</th>\n",
       "      <td>2022-07-09 13:20:49</td>\n",
       "      <td>Dear Spotify why do I get songs that I didn't ...</td>\n",
       "      <td>1</td>\n",
       "      <td>1</td>\n",
       "      <td>NaN</td>\n",
       "    </tr>\n",
       "  </tbody>\n",
       "</table>\n",
       "</div>"
      ],
      "text/plain": [
       "        Time_submitted                                             Review  \\\n",
       "0  2022-07-09 15:00:00  Great music service, the audio is high quality...   \n",
       "1  2022-07-09 14:21:22  Please ignore previous negative rating. This a...   \n",
       "2  2022-07-09 13:27:32  This pop-up \"Get the best Spotify experience o...   \n",
       "3  2022-07-09 13:26:45    Really buggy and terrible to use as of recently   \n",
       "4  2022-07-09 13:20:49  Dear Spotify why do I get songs that I didn't ...   \n",
       "\n",
       "   Rating  Total_thumbsup Reply  \n",
       "0       5               2   NaN  \n",
       "1       5               1   NaN  \n",
       "2       4               0   NaN  \n",
       "3       1               1   NaN  \n",
       "4       1               1   NaN  "
      ]
     },
     "execution_count": 2,
     "metadata": {},
     "output_type": "execute_result"
    }
   ],
   "source": [
    "df = pd.read_csv(\"reviews.csv\")\n",
    "df.head()"
   ]
  },
  {
   "cell_type": "markdown",
   "id": "051448ec",
   "metadata": {},
   "source": [
    "### Data exploration"
   ]
  },
  {
   "cell_type": "markdown",
   "id": "3891d2c0",
   "metadata": {},
   "source": [
    "After loading in the dataset, the data is now being explored to identify any remarkable things about the data such as imbalanced classes, missing values or unnecessary features."
   ]
  },
  {
   "cell_type": "code",
   "execution_count": 3,
   "id": "e8d195ec",
   "metadata": {},
   "outputs": [
    {
     "name": "stdout",
     "output_type": "stream",
     "text": [
      "<class 'pandas.core.frame.DataFrame'>\n",
      "RangeIndex: 61594 entries, 0 to 61593\n",
      "Data columns (total 5 columns):\n",
      " #   Column          Non-Null Count  Dtype \n",
      "---  ------          --------------  ----- \n",
      " 0   Time_submitted  61594 non-null  object\n",
      " 1   Review          61594 non-null  object\n",
      " 2   Rating          61594 non-null  int64 \n",
      " 3   Total_thumbsup  61594 non-null  int64 \n",
      " 4   Reply           216 non-null    object\n",
      "dtypes: int64(2), object(3)\n",
      "memory usage: 2.3+ MB\n"
     ]
    }
   ],
   "source": [
    "df.info()"
   ]
  },
  {
   "cell_type": "markdown",
   "id": "603f7e48",
   "metadata": {},
   "source": [
    "In this column above it is visible that there are five columns. The reply column has a lot of missing values. Consequently, will this column be removed in the next step. The whole dataset consists of 61.594 reviews and for every review there is a rating. To increase the speed of training and not overload the server, 30.000 random reviews will be selected to form the dataset to create this model. In the column above it is visible that there are five columns. The reply column has a lot of missing values. Consequently, will this column be removed in the next step. The whole dataset consists of 61.594 reviews and for every review there is a rating. To increase the speed of training and not overload the server, 30.000 random reviews will be selected to form the dataset to create this model. "
   ]
  },
  {
   "cell_type": "code",
   "execution_count": 4,
   "id": "1b52c52b",
   "metadata": {},
   "outputs": [
    {
     "name": "stdout",
     "output_type": "stream",
     "text": [
      "<class 'pandas.core.frame.DataFrame'>\n",
      "Int64Index: 30000 entries, 22640 to 51238\n",
      "Data columns (total 5 columns):\n",
      " #   Column          Non-Null Count  Dtype \n",
      "---  ------          --------------  ----- \n",
      " 0   Time_submitted  30000 non-null  object\n",
      " 1   Review          30000 non-null  object\n",
      " 2   Rating          30000 non-null  int64 \n",
      " 3   Total_thumbsup  30000 non-null  int64 \n",
      " 4   Reply           112 non-null    object\n",
      "dtypes: int64(2), object(3)\n",
      "memory usage: 1.4+ MB\n"
     ]
    }
   ],
   "source": [
    "df = df.sample(n=30000)\n",
    "df.info()"
   ]
  },
  {
   "cell_type": "code",
   "execution_count": 5,
   "id": "78a62755",
   "metadata": {},
   "outputs": [
    {
     "data": {
      "text/html": [
       "<div>\n",
       "<style scoped>\n",
       "    .dataframe tbody tr th:only-of-type {\n",
       "        vertical-align: middle;\n",
       "    }\n",
       "\n",
       "    .dataframe tbody tr th {\n",
       "        vertical-align: top;\n",
       "    }\n",
       "\n",
       "    .dataframe thead th {\n",
       "        text-align: right;\n",
       "    }\n",
       "</style>\n",
       "<table border=\"1\" class=\"dataframe\">\n",
       "  <thead>\n",
       "    <tr style=\"text-align: right;\">\n",
       "      <th></th>\n",
       "      <th>Rating</th>\n",
       "      <th>Total_thumbsup</th>\n",
       "    </tr>\n",
       "  </thead>\n",
       "  <tbody>\n",
       "    <tr>\n",
       "      <th>count</th>\n",
       "      <td>30000.000000</td>\n",
       "      <td>30000.000000</td>\n",
       "    </tr>\n",
       "    <tr>\n",
       "      <th>mean</th>\n",
       "      <td>3.154067</td>\n",
       "      <td>7.192633</td>\n",
       "    </tr>\n",
       "    <tr>\n",
       "      <th>std</th>\n",
       "      <td>1.677843</td>\n",
       "      <td>78.607633</td>\n",
       "    </tr>\n",
       "    <tr>\n",
       "      <th>min</th>\n",
       "      <td>1.000000</td>\n",
       "      <td>0.000000</td>\n",
       "    </tr>\n",
       "    <tr>\n",
       "      <th>25%</th>\n",
       "      <td>1.000000</td>\n",
       "      <td>0.000000</td>\n",
       "    </tr>\n",
       "    <tr>\n",
       "      <th>50%</th>\n",
       "      <td>3.000000</td>\n",
       "      <td>0.000000</td>\n",
       "    </tr>\n",
       "    <tr>\n",
       "      <th>75%</th>\n",
       "      <td>5.000000</td>\n",
       "      <td>1.000000</td>\n",
       "    </tr>\n",
       "    <tr>\n",
       "      <th>max</th>\n",
       "      <td>5.000000</td>\n",
       "      <td>6026.000000</td>\n",
       "    </tr>\n",
       "  </tbody>\n",
       "</table>\n",
       "</div>"
      ],
      "text/plain": [
       "             Rating  Total_thumbsup\n",
       "count  30000.000000    30000.000000\n",
       "mean       3.154067        7.192633\n",
       "std        1.677843       78.607633\n",
       "min        1.000000        0.000000\n",
       "25%        1.000000        0.000000\n",
       "50%        3.000000        0.000000\n",
       "75%        5.000000        1.000000\n",
       "max        5.000000     6026.000000"
      ]
     },
     "execution_count": 5,
     "metadata": {},
     "output_type": "execute_result"
    }
   ],
   "source": [
    "df.describe()"
   ]
  },
  {
   "cell_type": "markdown",
   "id": "ea6863ed",
   "metadata": {},
   "source": [
    "Above, the distribution of the numeral columns is shown. The rating column has a range of 1 to 5 which refers to the reviewers giving one or up to five stars. There does not seem anything remarkable or wrong with the numerical data."
   ]
  },
  {
   "cell_type": "code",
   "execution_count": 15,
   "id": "7a8503cb",
   "metadata": {},
   "outputs": [
    {
     "data": {
      "text/plain": [
       "'Please ignore previous negative rating. This app is super great. I give it five stars+'"
      ]
     },
     "execution_count": 15,
     "metadata": {},
     "output_type": "execute_result"
    }
   ],
   "source": [
    "df.loc[1,\"Review\"]"
   ]
  },
  {
   "cell_type": "markdown",
   "id": "c3bc6265",
   "metadata": {},
   "source": [
    "When randomly looking at a specific review, it is possible to see that to improve the performance of the model punctuations will need to be removed as well as white spaces and capital letters. "
   ]
  },
  {
   "cell_type": "code",
   "execution_count": 16,
   "id": "26c1ed68",
   "metadata": {},
   "outputs": [
    {
     "data": {
      "text/html": [
       "<div>\n",
       "<style scoped>\n",
       "    .dataframe tbody tr th:only-of-type {\n",
       "        vertical-align: middle;\n",
       "    }\n",
       "\n",
       "    .dataframe tbody tr th {\n",
       "        vertical-align: top;\n",
       "    }\n",
       "\n",
       "    .dataframe thead th {\n",
       "        text-align: right;\n",
       "    }\n",
       "</style>\n",
       "<table border=\"1\" class=\"dataframe\">\n",
       "  <thead>\n",
       "    <tr style=\"text-align: right;\">\n",
       "      <th></th>\n",
       "      <th>Review</th>\n",
       "      <th>Total_thumbsup</th>\n",
       "    </tr>\n",
       "  </thead>\n",
       "  <tbody>\n",
       "    <tr>\n",
       "      <th>37523</th>\n",
       "      <td>Forever glitchy. App play button and current s...</td>\n",
       "      <td>6026</td>\n",
       "    </tr>\n",
       "    <tr>\n",
       "      <th>36670</th>\n",
       "      <td>Edit April 13: the reliability and stability o...</td>\n",
       "      <td>4749</td>\n",
       "    </tr>\n",
       "    <tr>\n",
       "      <th>22039</th>\n",
       "      <td>I have used almost every music provider except...</td>\n",
       "      <td>4115</td>\n",
       "    </tr>\n",
       "    <tr>\n",
       "      <th>44953</th>\n",
       "      <td>I'm facing lot of bugs on my mobile. I subscri...</td>\n",
       "      <td>2907</td>\n",
       "    </tr>\n",
       "    <tr>\n",
       "      <th>40840</th>\n",
       "      <td>Very poor experience with the free version. I ...</td>\n",
       "      <td>2721</td>\n",
       "    </tr>\n",
       "    <tr>\n",
       "      <th>58520</th>\n",
       "      <td>It is the best music app you can find... But b...</td>\n",
       "      <td>2524</td>\n",
       "    </tr>\n",
       "    <tr>\n",
       "      <th>48597</th>\n",
       "      <td>I'm going to be honest. This app is great. I a...</td>\n",
       "      <td>2427</td>\n",
       "    </tr>\n",
       "    <tr>\n",
       "      <th>8038</th>\n",
       "      <td>Been waiting for the update with lyrics on pho...</td>\n",
       "      <td>2290</td>\n",
       "    </tr>\n",
       "    <tr>\n",
       "      <th>34247</th>\n",
       "      <td>Only giving 4 stars instead of 5 because of th...</td>\n",
       "      <td>2129</td>\n",
       "    </tr>\n",
       "    <tr>\n",
       "      <th>24552</th>\n",
       "      <td>I've been using Spotify for a long time and it...</td>\n",
       "      <td>2077</td>\n",
       "    </tr>\n",
       "  </tbody>\n",
       "</table>\n",
       "</div>"
      ],
      "text/plain": [
       "                                                  Review  Total_thumbsup\n",
       "37523  Forever glitchy. App play button and current s...            6026\n",
       "36670  Edit April 13: the reliability and stability o...            4749\n",
       "22039  I have used almost every music provider except...            4115\n",
       "44953  I'm facing lot of bugs on my mobile. I subscri...            2907\n",
       "40840  Very poor experience with the free version. I ...            2721\n",
       "58520  It is the best music app you can find... But b...            2524\n",
       "48597  I'm going to be honest. This app is great. I a...            2427\n",
       "8038   Been waiting for the update with lyrics on pho...            2290\n",
       "34247  Only giving 4 stars instead of 5 because of th...            2129\n",
       "24552  I've been using Spotify for a long time and it...            2077"
      ]
     },
     "execution_count": 16,
     "metadata": {},
     "output_type": "execute_result"
    }
   ],
   "source": [
    "df[[\"Review\", \"Total_thumbsup\"]].nlargest(10, \"Total_thumbsup\")"
   ]
  },
  {
   "cell_type": "markdown",
   "id": "77aa5959",
   "metadata": {},
   "source": [
    "Next, in the table above it is possible to see the first ten reviews that were liked the most. Considering that one likes means that someone found that specific review interesting, this can be a very informative result. Spotify could prioritize and identify important aspects or features that need to be adapted in the current service. So next to the model that is following in this pipeline for sentiment analysis this could be an important tool as well."
   ]
  },
  {
   "cell_type": "code",
   "execution_count": 17,
   "id": "853fc058",
   "metadata": {},
   "outputs": [
    {
     "data": {
      "image/png": "[encoded data removed]",
      "text/plain": [
       "<Figure size 432x288 with 1 Axes>"
      ]
     },
     "metadata": {},
     "output_type": "display_data"
    }
   ],
   "source": [
    "plt.pie(df['Rating'].value_counts(), labels=df['Rating'].unique(), autopct='%1.1f%%')\n",
    "plt.title(\"Distribution of ratings\")\n",
    "plt.show()"
   ]
  },
  {
   "cell_type": "markdown",
   "id": "7eeb41a8",
   "metadata": {},
   "source": [
    "After visualizing the different ratings, which will be the target class, it is visible that the classes are unbalanced. Also when considering the interpretation of the model the amount of start does not say a lot. Therefore the categories will be divided into positive, neutral and negative in the data preprocessing step. "
   ]
  },
  {
   "cell_type": "markdown",
   "id": "4c3a0917",
   "metadata": {},
   "source": [
    "## Data preprocessing"
   ]
  },
  {
   "cell_type": "markdown",
   "id": "e6068c8e",
   "metadata": {},
   "source": [
    "In what follows the most important features are first selected, then the text is preprocessed and lastly, the dataset is split into training and testing. "
   ]
  },
  {
   "cell_type": "markdown",
   "id": "4b34f43e",
   "metadata": {},
   "source": [
    "### Feature selection"
   ]
  },
  {
   "cell_type": "markdown",
   "id": "e99cb173",
   "metadata": {},
   "source": [
    "Below, the ratings are divided into three different categories to make it easier to interpret the outcome. Ratings with 1 and 2 stars are given the category negative, ratings with 3 stars are neutral and ratings with 4 and 5 stars are considered positive. These categories are stored in the new column \"Sentiment\"."
   ]
  },
  {
   "cell_type": "code",
   "execution_count": 18,
   "id": "3a6119f2",
   "metadata": {},
   "outputs": [
    {
     "data": {
      "text/html": [
       "<div>\n",
       "<style scoped>\n",
       "    .dataframe tbody tr th:only-of-type {\n",
       "        vertical-align: middle;\n",
       "    }\n",
       "\n",
       "    .dataframe tbody tr th {\n",
       "        vertical-align: top;\n",
       "    }\n",
       "\n",
       "    .dataframe thead th {\n",
       "        text-align: right;\n",
       "    }\n",
       "</style>\n",
       "<table border=\"1\" class=\"dataframe\">\n",
       "  <thead>\n",
       "    <tr style=\"text-align: right;\">\n",
       "      <th></th>\n",
       "      <th>Time_submitted</th>\n",
       "      <th>Review</th>\n",
       "      <th>Rating</th>\n",
       "      <th>Total_thumbsup</th>\n",
       "      <th>Reply</th>\n",
       "      <th>Sentiment</th>\n",
       "    </tr>\n",
       "  </thead>\n",
       "  <tbody>\n",
       "    <tr>\n",
       "      <th>22640</th>\n",
       "      <td>2022-05-13 12:20:18</td>\n",
       "      <td>**Update: May 13 - Just downloaded another \"Up...</td>\n",
       "      <td>1</td>\n",
       "      <td>176</td>\n",
       "      <td>NaN</td>\n",
       "      <td>Negative</td>\n",
       "    </tr>\n",
       "    <tr>\n",
       "      <th>49901</th>\n",
       "      <td>2022-02-24 18:03:56</td>\n",
       "      <td>Maybe there is an easier way of finding a part...</td>\n",
       "      <td>4</td>\n",
       "      <td>1</td>\n",
       "      <td>NaN</td>\n",
       "      <td>Positive</td>\n",
       "    </tr>\n",
       "    <tr>\n",
       "      <th>5435</th>\n",
       "      <td>2022-06-27 17:42:24</td>\n",
       "      <td>Lots of advertisements</td>\n",
       "      <td>1</td>\n",
       "      <td>0</td>\n",
       "      <td>NaN</td>\n",
       "      <td>Negative</td>\n",
       "    </tr>\n",
       "    <tr>\n",
       "      <th>13501</th>\n",
       "      <td>2022-06-08 18:08:24</td>\n",
       "      <td>Lovely, enjoying music and very clear</td>\n",
       "      <td>5</td>\n",
       "      <td>0</td>\n",
       "      <td>NaN</td>\n",
       "      <td>Positive</td>\n",
       "    </tr>\n",
       "    <tr>\n",
       "      <th>43380</th>\n",
       "      <td>2022-03-21 12:47:45</td>\n",
       "      <td>best app for music but sometimes ads are distu...</td>\n",
       "      <td>5</td>\n",
       "      <td>0</td>\n",
       "      <td>NaN</td>\n",
       "      <td>Positive</td>\n",
       "    </tr>\n",
       "  </tbody>\n",
       "</table>\n",
       "</div>"
      ],
      "text/plain": [
       "            Time_submitted                                             Review  \\\n",
       "22640  2022-05-13 12:20:18  **Update: May 13 - Just downloaded another \"Up...   \n",
       "49901  2022-02-24 18:03:56  Maybe there is an easier way of finding a part...   \n",
       "5435   2022-06-27 17:42:24                             Lots of advertisements   \n",
       "13501  2022-06-08 18:08:24              Lovely, enjoying music and very clear   \n",
       "43380  2022-03-21 12:47:45  best app for music but sometimes ads are distu...   \n",
       "\n",
       "       Rating  Total_thumbsup Reply Sentiment  \n",
       "22640       1             176   NaN  Negative  \n",
       "49901       4               1   NaN  Positive  \n",
       "5435        1               0   NaN  Negative  \n",
       "13501       5               0   NaN  Positive  \n",
       "43380       5               0   NaN  Positive  "
      ]
     },
     "execution_count": 18,
     "metadata": {},
     "output_type": "execute_result"
    }
   ],
   "source": [
    "conditions = [\n",
    "    df[\"Rating\"] >= 4,\n",
    "    df[\"Rating\"] == 3,\n",
    "    df[\"Rating\"] <= 2,\n",
    "]\n",
    "\n",
    "values = ['Positive', 'Neutral', 'Negative']\n",
    "\n",
    "df['Sentiment'] = np.select(conditions, values)\n",
    "df.head()"
   ]
  },
  {
   "cell_type": "code",
   "execution_count": 19,
   "id": "58905af2",
   "metadata": {},
   "outputs": [
    {
     "data": {
      "image/png": "[encoded data removed]",
      "text/plain": [
       "<Figure size 432x288 with 1 Axes>"
      ]
     },
     "metadata": {},
     "output_type": "display_data"
    }
   ],
   "source": [
    "plt.pie(df['Sentiment'].value_counts(), labels=df['Sentiment'].unique(), autopct='%1.1f%%')\n",
    "plt.title(\"Distribution of sentiment\")\n",
    "plt.show()"
   ]
  },
  {
   "cell_type": "markdown",
   "id": "2997b00f",
   "metadata": {},
   "source": [
    "Next up, the columns \"Time_submitted and \"Reply\" are being deleted. As seen in the data preprocessing step the column \"Reply\" has a lot of null values and is not accurate for the sentiment analysis. Furthermore, the time does not add any valuable additional information for the sentiment analysis. "
   ]
  },
  {
   "cell_type": "code",
   "execution_count": 23,
   "id": "ff0f02ab",
   "metadata": {},
   "outputs": [
    {
     "data": {
      "text/html": [
       "<div>\n",
       "<style scoped>\n",
       "    .dataframe tbody tr th:only-of-type {\n",
       "        vertical-align: middle;\n",
       "    }\n",
       "\n",
       "    .dataframe tbody tr th {\n",
       "        vertical-align: top;\n",
       "    }\n",
       "\n",
       "    .dataframe thead th {\n",
       "        text-align: right;\n",
       "    }\n",
       "</style>\n",
       "<table border=\"1\" class=\"dataframe\">\n",
       "  <thead>\n",
       "    <tr style=\"text-align: right;\">\n",
       "      <th></th>\n",
       "      <th>Review</th>\n",
       "      <th>Rating</th>\n",
       "      <th>Total_thumbsup</th>\n",
       "      <th>Sentiment</th>\n",
       "    </tr>\n",
       "  </thead>\n",
       "  <tbody>\n",
       "    <tr>\n",
       "      <th>22640</th>\n",
       "      <td>**Update: May 13 - Just downloaded another \"Up...</td>\n",
       "      <td>1</td>\n",
       "      <td>176</td>\n",
       "      <td>Negative</td>\n",
       "    </tr>\n",
       "    <tr>\n",
       "      <th>49901</th>\n",
       "      <td>Maybe there is an easier way of finding a part...</td>\n",
       "      <td>4</td>\n",
       "      <td>1</td>\n",
       "      <td>Positive</td>\n",
       "    </tr>\n",
       "    <tr>\n",
       "      <th>5435</th>\n",
       "      <td>Lots of advertisements</td>\n",
       "      <td>1</td>\n",
       "      <td>0</td>\n",
       "      <td>Negative</td>\n",
       "    </tr>\n",
       "    <tr>\n",
       "      <th>13501</th>\n",
       "      <td>Lovely, enjoying music and very clear</td>\n",
       "      <td>5</td>\n",
       "      <td>0</td>\n",
       "      <td>Positive</td>\n",
       "    </tr>\n",
       "    <tr>\n",
       "      <th>43380</th>\n",
       "      <td>best app for music but sometimes ads are distu...</td>\n",
       "      <td>5</td>\n",
       "      <td>0</td>\n",
       "      <td>Positive</td>\n",
       "    </tr>\n",
       "  </tbody>\n",
       "</table>\n",
       "</div>"
      ],
      "text/plain": [
       "                                                  Review  Rating  \\\n",
       "22640  **Update: May 13 - Just downloaded another \"Up...       1   \n",
       "49901  Maybe there is an easier way of finding a part...       4   \n",
       "5435                              Lots of advertisements       1   \n",
       "13501              Lovely, enjoying music and very clear       5   \n",
       "43380  best app for music but sometimes ads are distu...       5   \n",
       "\n",
       "       Total_thumbsup Sentiment  \n",
       "22640             176  Negative  \n",
       "49901               1  Positive  \n",
       "5435                0  Negative  \n",
       "13501               0  Positive  \n",
       "43380               0  Positive  "
      ]
     },
     "execution_count": 23,
     "metadata": {},
     "output_type": "execute_result"
    }
   ],
   "source": [
    "del df[\"Time_submitted\"]\n",
    "del df[\"Reply\"]\n",
    "df.head()"
   ]
  },
  {
   "cell_type": "markdown",
   "id": "f3eb781b",
   "metadata": {},
   "source": [
    "### Text preprocessor"
   ]
  },
  {
   "cell_type": "markdown",
   "id": "8ae8abd5",
   "metadata": {},
   "source": [
    "The next text preprocessing step is crucial to transfer the text from human language to a format that is readable by machines (Davydova, 2018). The built preprocessor is first going to lower the text to then tokenize it. Stop words are being removed and the words are being lemmatized. "
   ]
  },
  {
   "cell_type": "code",
   "execution_count": 24,
   "id": "0ef024dc",
   "metadata": {},
   "outputs": [
    {
     "data": {
      "text/html": [
       "<div>\n",
       "<style scoped>\n",
       "    .dataframe tbody tr th:only-of-type {\n",
       "        vertical-align: middle;\n",
       "    }\n",
       "\n",
       "    .dataframe tbody tr th {\n",
       "        vertical-align: top;\n",
       "    }\n",
       "\n",
       "    .dataframe thead th {\n",
       "        text-align: right;\n",
       "    }\n",
       "</style>\n",
       "<table border=\"1\" class=\"dataframe\">\n",
       "  <thead>\n",
       "    <tr style=\"text-align: right;\">\n",
       "      <th></th>\n",
       "      <th>Review</th>\n",
       "      <th>Rating</th>\n",
       "      <th>Total_thumbsup</th>\n",
       "      <th>Sentiment</th>\n",
       "      <th>preprocessed_text</th>\n",
       "    </tr>\n",
       "  </thead>\n",
       "  <tbody>\n",
       "    <tr>\n",
       "      <th>22640</th>\n",
       "      <td>**Update: May 13 - Just downloaded another \"Up...</td>\n",
       "      <td>1</td>\n",
       "      <td>176</td>\n",
       "      <td>Negative</td>\n",
       "      <td>update may 13 downloaded another update nothin...</td>\n",
       "    </tr>\n",
       "    <tr>\n",
       "      <th>49901</th>\n",
       "      <td>Maybe there is an easier way of finding a part...</td>\n",
       "      <td>4</td>\n",
       "      <td>1</td>\n",
       "      <td>Positive</td>\n",
       "      <td>maybe easier way finding particular song one p...</td>\n",
       "    </tr>\n",
       "    <tr>\n",
       "      <th>5435</th>\n",
       "      <td>Lots of advertisements</td>\n",
       "      <td>1</td>\n",
       "      <td>0</td>\n",
       "      <td>Negative</td>\n",
       "      <td>lot advertisement</td>\n",
       "    </tr>\n",
       "    <tr>\n",
       "      <th>13501</th>\n",
       "      <td>Lovely, enjoying music and very clear</td>\n",
       "      <td>5</td>\n",
       "      <td>0</td>\n",
       "      <td>Positive</td>\n",
       "      <td>lovely enjoying music clear</td>\n",
       "    </tr>\n",
       "    <tr>\n",
       "      <th>43380</th>\n",
       "      <td>best app for music but sometimes ads are distu...</td>\n",
       "      <td>5</td>\n",
       "      <td>0</td>\n",
       "      <td>Positive</td>\n",
       "      <td>best app music sometimes ad disturbing irritating</td>\n",
       "    </tr>\n",
       "  </tbody>\n",
       "</table>\n",
       "</div>"
      ],
      "text/plain": [
       "                                                  Review  Rating  \\\n",
       "22640  **Update: May 13 - Just downloaded another \"Up...       1   \n",
       "49901  Maybe there is an easier way of finding a part...       4   \n",
       "5435                              Lots of advertisements       1   \n",
       "13501              Lovely, enjoying music and very clear       5   \n",
       "43380  best app for music but sometimes ads are distu...       5   \n",
       "\n",
       "       Total_thumbsup Sentiment  \\\n",
       "22640             176  Negative   \n",
       "49901               1  Positive   \n",
       "5435                0  Negative   \n",
       "13501               0  Positive   \n",
       "43380               0  Positive   \n",
       "\n",
       "                                       preprocessed_text  \n",
       "22640  update may 13 downloaded another update nothin...  \n",
       "49901  maybe easier way finding particular song one p...  \n",
       "5435                                   lot advertisement  \n",
       "13501                        lovely enjoying music clear  \n",
       "43380  best app music sometimes ad disturbing irritating  "
      ]
     },
     "execution_count": 24,
     "metadata": {},
     "output_type": "execute_result"
    }
   ],
   "source": [
    "def preprocessor(text):\n",
    "    text = text.lower()\n",
    "    tokenizer = nltk.RegexpTokenizer(r\"\\w+\")\n",
    "    words = tokenizer.tokenize(text)\n",
    "    stop_words = nltk.corpus.stopwords.words(\"english\")\n",
    "    words_without = [w for w in words if not w in stop_words]\n",
    "    lemmatizer = nltk.stem.WordNetLemmatizer()\n",
    "    lemm_words = [lemmatizer.lemmatize(w) for w in words_without]\n",
    "    return \" \".join(lemm_words)\n",
    "\n",
    "df[\"preprocessed_text\"] = df[\"Review\"].apply(preprocessor)\n",
    "df.head()"
   ]
  },
  {
   "cell_type": "markdown",
   "id": "3fc78d6b",
   "metadata": {},
   "source": [
    "### Split data"
   ]
  },
  {
   "cell_type": "markdown",
   "id": "0eb146bf",
   "metadata": {},
   "source": [
    "Now the dataset is divided into a test and training dataset. The test dataset will be kept until the end to evaluate how well the model is performing. "
   ]
  },
  {
   "cell_type": "code",
   "execution_count": 25,
   "id": "dd5e388d",
   "metadata": {},
   "outputs": [
    {
     "data": {
      "text/plain": [
       "((22500,), (7500,), (22500,), (7500,))"
      ]
     },
     "execution_count": 25,
     "metadata": {},
     "output_type": "execute_result"
    }
   ],
   "source": [
    "x = df[\"preprocessed_text\"]\n",
    "y = df[\"Sentiment\"]\n",
    "x_train, x_test, y_train, y_test = sklearn.model_selection.train_test_split(x, y)\n",
    "x_train.shape, x_test.shape, y_train.shape, y_test.shape"
   ]
  },
  {
   "cell_type": "markdown",
   "id": "4292c50d",
   "metadata": {},
   "source": [
    "There is no need to encode the labels why scikit learn is being used and labeling is happening automatically. "
   ]
  },
  {
   "cell_type": "markdown",
   "id": "b9c98025",
   "metadata": {},
   "source": [
    "## Feature engineering"
   ]
  },
  {
   "cell_type": "markdown",
   "id": "74508d43",
   "metadata": {},
   "source": [
    "Since the text is not straightforward to represent, a vector space model will be introduced. In that way, the text will be converted to a  numerical form. The words will be represented as TF-IDF, which assigns an importance score to each word (Sowmya Vajjala et al., 2020). In the next step, the vectorizer is defined, fitted on the training data and then transformed to the whole database. "
   ]
  },
  {
   "cell_type": "markdown",
   "id": "7a70dc95",
   "metadata": {},
   "source": [
    "### Vectorizer"
   ]
  },
  {
   "cell_type": "code",
   "execution_count": 36,
   "id": "d28f4c5f",
   "metadata": {},
   "outputs": [
    {
     "name": "stdout",
     "output_type": "stream",
     "text": [
      "x_train_tfidf: (22500, 4416)\n",
      "x_test_tfidf: (7500, 4416)\n"
     ]
    }
   ],
   "source": [
    "vectorizer = sklearn.feature_extraction.text.TfidfVectorizer(min_df=3, max_features=10000)\n",
    "vectorizer.fit(x_train)\n",
    "\n",
    "x_train_tfidf = vectorizer.transform(x_train)\n",
    "x_test_tfidf = vectorizer.transform(x_test)\n",
    "\n",
    "print(\"x_train_tfidf:\", x_train_tfidf.shape)\n",
    "print(\"x_test_tfidf:\", x_test_tfidf.shape)"
   ]
  },
  {
   "cell_type": "markdown",
   "id": "7dccedd5",
   "metadata": {},
   "source": [
    "The two hyperparameters used are the min_df and max_features. Min_df means that the terms with a lower frequency than three will be ignored. The max_features is going to make sure only the 10.000 most frequent terms will be used to build a vocabulary (Scikit learn, 2018)."
   ]
  },
  {
   "cell_type": "markdown",
   "id": "f70e1234",
   "metadata": {},
   "source": [
    "### Balancing classes"
   ]
  },
  {
   "cell_type": "markdown",
   "id": "e593631b",
   "metadata": {},
   "source": [
    "As seen in the data exploration part, the classes are unbalanced, therefore the SMOTE method is being applied to the training data. This will apply an over-sampling technique to the dataset. The hyperparameter sampling_strategy will make sure all classes are resampled. While building the pipeline all the different sampling strategies were tried, but the \"all\" strategy delivered the best performance when evaluating the trained model. Therefore, the hyperparameter was set that way."
   ]
  },
  {
   "cell_type": "code",
   "execution_count": 37,
   "id": "be4c68ba",
   "metadata": {},
   "outputs": [],
   "source": [
    "smote = imblearn.over_sampling.SMOTE(random_state = 2, sampling_strategy = \"all\")  \n",
    "x_train_res, y_train_res = smote.fit_resample(x_train_tfidf, y_train)"
   ]
  },
  {
   "cell_type": "markdown",
   "id": "9384bb59",
   "metadata": {},
   "source": [
    "## Training a model"
   ]
  },
  {
   "cell_type": "markdown",
   "id": "67c84d79",
   "metadata": {},
   "source": [
    "After preprocessing the data and feature engineering it is now time to train the right model and evaluate the model based on how well it is classifying the reviews in the right categories. "
   ]
  },
  {
   "cell_type": "markdown",
   "id": "4824fccd",
   "metadata": {},
   "source": [
    "### Random forest"
   ]
  },
  {
   "cell_type": "markdown",
   "id": "8a5eb967",
   "metadata": {},
   "source": [
    "The first used algorithm is random forest. This algorithm creates decision trees on random selected samples of data, gets a prediction for each tree and selects the best solution by voting (Datacamp, 2018). Grid search is applied to find the best hyperparameters."
   ]
  },
  {
   "cell_type": "code",
   "execution_count": 39,
   "id": "9c0bba5f",
   "metadata": {},
   "outputs": [
    {
     "name": "stdout",
     "output_type": "stream",
     "text": [
      "Accuracy of the best RF classifier = 0.87\n",
      "Best found hyperparameters of RF classifier = {'criterion': 'entropy', 'n_estimators': 400}\n"
     ]
    }
   ],
   "source": [
    "parameters_grid = {\n",
    "    \"criterion\": [\"gini\", \"entropy\"],\n",
    "    \"n_estimators\": range(250,510,50)\n",
    "}\n",
    "RF = sklearn.model_selection.GridSearchCV(sklearn.ensemble.RandomForestClassifier(),\n",
    "                                              parameters_grid, scoring=\"accuracy\", cv=5, n_jobs=-1)\n",
    "RF.fit(x_train_res, y_train_res)\n",
    "print(\"Accuracy of the best RF classifier = {:.2f}\".format(RF.best_score_))\n",
    "print(\"Best found hyperparameters of RF classifier = {}\".format(RF.best_params_))"
   ]
  },
  {
   "cell_type": "markdown",
   "id": "7b17b74a",
   "metadata": {},
   "source": [
    "### Multilayer perceptron"
   ]
  },
  {
   "cell_type": "markdown",
   "id": "fd504a55",
   "metadata": {},
   "source": [
    "The second chosen algorithm is a multilayer perceptron. Before training the model, scaling the data is necessary. Therefore the data is being scaled in the next step. "
   ]
  },
  {
   "cell_type": "code",
   "execution_count": 40,
   "id": "15b4cca9",
   "metadata": {},
   "outputs": [],
   "source": [
    "scaler = sklearn.preprocessing.StandardScaler(with_mean=False)\n",
    "scaler.fit(x_train_res)\n",
    "\n",
    "x_train_sc = scaler.transform(x_train_res)\n",
    "x_test_sc = scaler.transform(x_test_tfidf)"
   ]
  },
  {
   "cell_type": "markdown",
   "id": "fb9101c4",
   "metadata": {},
   "source": [
    "Early stopping was set to true which will make sure 10% of the training data is set aside as validation ad the training will be terminated when the validation score is not improving. The max_iter specifies the number of epochs and batch_size determines the size of the mini batches. Finally, the solver means the solver used for weight optimization (Scikit learn, 2010). "
   ]
  },
  {
   "cell_type": "code",
   "execution_count": 41,
   "id": "179e8b96",
   "metadata": {
    "scrolled": true
   },
   "outputs": [
    {
     "name": "stdout",
     "output_type": "stream",
     "text": [
      "Accuracy of the best MLP classifier = 0.85\n",
      "Best found hyperparameters of MLP classifier = {'batch_size': 400, 'early_stopping': True, 'max_iter': 700, 'solver': 'adam'}\n"
     ]
    }
   ],
   "source": [
    "parameters_grid = { \n",
    "    \"solver\": [\"lbfgs\", \"adam\"],\n",
    "    \"batch_size\":[300, 400],\n",
    "    \"max_iter\": [600, 700],\n",
    "    \"early_stopping\": [True]\n",
    "}\n",
    "ML = sklearn.model_selection.GridSearchCV(sklearn.neural_network.MLPClassifier(),\n",
    "                                              parameters_grid, scoring=\"accuracy\", cv=5, n_jobs=-1)\n",
    "ML.fit(x_train_sc, y_train_res)\n",
    "print(\"Accuracy of the best MLP classifier = {:.2f}\".format(ML.best_score_))\n",
    "print(\"Best found hyperparameters of MLP classifier = {}\".format(ML.best_params_))"
   ]
  },
  {
   "cell_type": "markdown",
   "id": "216f73bc",
   "metadata": {},
   "source": [
    "The model that obtained the highest accuracy is random forest. Therefore that model is tested in the following steps."
   ]
  },
  {
   "cell_type": "markdown",
   "id": "2584b3f4",
   "metadata": {},
   "source": [
    "## Testing the best model"
   ]
  },
  {
   "cell_type": "code",
   "execution_count": 44,
   "id": "8efba49a",
   "metadata": {},
   "outputs": [
    {
     "name": "stdout",
     "output_type": "stream",
     "text": [
      "Accuracy =  0.7530666666666667\n",
      "Precision =  [0.7022942  0.25365854 0.83398329]\n",
      "Recall = [0.85088293 0.06124853 0.83328695]\n",
      "F1-score = [0.769481   0.09867173 0.83363497]\n",
      "Confusion Matrix:\n",
      " [[2602   74  382]\n",
      " [ 583   52  214]\n",
      " [ 520   79 2994]]\n"
     ]
    }
   ],
   "source": [
    "y_predicted = RF.predict(x_test_tfidf)\n",
    "accuracy = sklearn.metrics.accuracy_score(y_test, y_predicted)\n",
    "cm = sklearn.metrics.confusion_matrix(y_test, y_predicted)\n",
    "precision, recall, f1, support = sklearn.metrics.precision_recall_fscore_support(y_test, y_predicted)\n",
    "\n",
    "print(\"Accuracy = \", accuracy)\n",
    "print(\"Precision = \", precision)\n",
    "print(\"Recall =\", recall)\n",
    "print(\"F1-score =\", f1)\n",
    "print(\"Confusion Matrix:\\n\", cm) "
   ]
  },
  {
   "cell_type": "code",
   "execution_count": 46,
   "id": "d40b9f59",
   "metadata": {},
   "outputs": [
    {
     "data": {
      "image/png": "[encoded data removed]",
      "text/plain": [
       "<Figure size 432x288 with 2 Axes>"
      ]
     },
     "metadata": {
      "needs_background": "light"
     },
     "output_type": "display_data"
    }
   ],
   "source": [
    "disp = sklearn.metrics.ConfusionMatrixDisplay(confusion_matrix=cm, display_labels=RF.classes_)\n",
    "disp.plot()\n",
    "plt.show()"
   ]
  },
  {
   "cell_type": "markdown",
   "id": "ef9ce86e",
   "metadata": {},
   "source": [
    "When testing the final model an accuracy of 75% is obtained, which means 75% of the reviews are classified in the right class. This is not very high and means that the model is not performing very well. When calculating the evaluation metrics it is also visible that the model has in particular difficulties with assigning the class neutral to a review which is not surprising since it is even difficult to determine what exactly is defined as neutral. "
   ]
  },
  {
   "cell_type": "markdown",
   "id": "fd21d068",
   "metadata": {},
   "source": [
    "Looking at the confusion matrix still, the majority of positive and negative reviews are classified correctly."
   ]
  },
  {
   "cell_type": "markdown",
   "id": "07c29395",
   "metadata": {},
   "source": [
    "### Testing new reviews"
   ]
  },
  {
   "cell_type": "markdown",
   "id": "d8a7b6e7",
   "metadata": {},
   "source": [
    "As final evaluation, some random reviews were formulated to see if the model classified them correctly."
   ]
  },
  {
   "cell_type": "code",
   "execution_count": 54,
   "id": "66a87dd6",
   "metadata": {},
   "outputs": [
    {
     "data": {
      "text/plain": [
       "array(['Positive', 'Positive', 'Negative'], dtype=object)"
      ]
     },
     "execution_count": 54,
     "metadata": {},
     "output_type": "execute_result"
    }
   ],
   "source": [
    "review = [\"This is a bad app!\", \"I love how good the songs are.\", \"I'am experiencing a lot of bugs terrible.\"]\n",
    "encoded_review = vectorizer.transform(review)\n",
    "predicted_class = RF.predict(encoded_review)\n",
    "predicted_class"
   ]
  },
  {
   "cell_type": "markdown",
   "id": "6d196d06",
   "metadata": {},
   "source": [
    "Again, this shows how average the model is performing. It classifies the first review as positive but it is clear that that is not the case. "
   ]
  },
  {
   "cell_type": "markdown",
   "id": "e0caf0db",
   "metadata": {},
   "source": [
    "## Discussion"
   ]
  },
  {
   "cell_type": "markdown",
   "id": "9810fd33",
   "metadata": {},
   "source": [
    "Spotify is one of the most used music platforms and fully relies on its subscribers. Therefore, the opinions and reviews of their customers are extremely important to stay successful. With the help of a database containing reviews about Spotify given on the Google Play Store, two models were trained to perform a multiclass classification task. The best-performing model was random forest classification. Evaluating the model with the test set accuracy of 75% was obtained, which is not that high. Nevertheless, considering the shortage of time and capability of the server this is the best possible obtained model. "
   ]
  },
  {
   "cell_type": "markdown",
   "id": "894dc823",
   "metadata": {},
   "source": [
    "What could be interesting for Spotify is to observe the reviews with the most likes, considering that those reviews contain the most interesting information."
   ]
  },
  {
   "cell_type": "markdown",
   "id": "d3b410e5",
   "metadata": {},
   "source": [
    "This pipeline could serve as a foundation for further research. Further studies could opt for a more advanced way to represent the text. Word embeddings could result in a higher accuracy. Furthermore, other balancing or scaling technqiues could be tried out as well. Finally, other algorithms and hyperparameters could improve the performance as well. "
   ]
  },
  {
   "cell_type": "markdown",
   "id": "9a877707",
   "metadata": {},
   "source": [
    "## References"
   ]
  },
  {
   "cell_type": "markdown",
   "id": "c201e656",
   "metadata": {},
   "source": [
    "Datacamp (2018). Sklearn Random Forest Classifiers in Python Tutorial. [online] www.datacamp.com. Available at: https://www.datacamp.com/tutorial/random-forests-classifier-python."
   ]
  },
  {
   "cell_type": "markdown",
   "id": "e6a51c5a",
   "metadata": {},
   "source": [
    "Davydova, O. (2018). Text Preprocessing in Python: Steps, Tools, and Examples. [online] Product AI. Available at: https://medium.com/product-ai/text-preprocessing-in-python-steps-tools-and-examples-bf025f872908."
   ]
  },
  {
   "cell_type": "markdown",
   "id": "b916ce9c",
   "metadata": {},
   "source": [
    "ILMI, M.F. (2022). Spotify App Reviews. [online] www.kaggle.com. Available at: https://www.kaggle.com/datasets/mfaaris/spotify-app-reviews-2022."
   ]
  },
  {
   "cell_type": "markdown",
   "id": "943af5bb",
   "metadata": {},
   "source": [
    "Iqbal, M. (2022). Spotify Usage and Revenue Statistics (2022). [online] Business of Apps. Available at: https://www.businessofapps.com/data/spotify-statistics/."
   ]
  },
  {
   "cell_type": "markdown",
   "id": "643879c0",
   "metadata": {},
   "source": [
    "Robinson, S. (2021). Sentiment analysis: Why it’s necessary and how it improves CX. [online] SearchCustomerExperience. Available at: https://www.techtarget.com/searchcustomerexperience/tip/Sentiment-analysis-Why-its-necessary-and-how-it-improves-CX."
   ]
  },
  {
   "cell_type": "markdown",
   "id": "0580a295",
   "metadata": {},
   "source": [
    "Saurabhk (2020). Data Collection and Annotation Measures for Sentiment Analysis. [online] Analytics Vidhya. Available at: https://medium.com/analytics-vidhya/data-collection-and-annotation-measures-for-sentiment-analysis-767da1dd4272."
   ]
  },
  {
   "cell_type": "markdown",
   "id": "aa088e42",
   "metadata": {},
   "source": [
    "Scikit learn (2010). sklearn.neural_network.MLPClassifier — scikit-learn 0.20.3 documentation. [online] Scikit-learn.org. Available at: https://scikit-learn.org/stable/modules/generated/sklearn.neural_network.MLPClassifier.html."
   ]
  },
  {
   "cell_type": "markdown",
   "id": "714e6c31",
   "metadata": {},
   "source": [
    "Scikit learn (2018). sklearn.feature_extraction.text.TfidfVectorizer — scikit-learn 0.20.3 documentation. [online] Scikit-learn.org. Available at: https://scikit-learn.org/stable/modules/generated/sklearn.feature_extraction.text.TfidfVectorizer.html."
   ]
  },
  {
   "cell_type": "markdown",
   "id": "a07bb1ef",
   "metadata": {},
   "source": [
    "Sowmya Vajjala, Bodhisattwa Majumder, Anuj Gupta and Harshit Surana (2020). Practical natural language processing : a comprehensive guide to building real-world NLP sysems. Sebastopol, Ca O’reilly Media."
   ]
  }
 ],
 "metadata": {
  "kernelspec": {
   "display_name": "Python 3 (ipykernel)",
   "language": "python",
   "name": "python3"
  },
  "language_info": {
   "codemirror_mode": {
    "name": "ipython",
    "version": 3
   },
   "file_extension": ".py",
   "mimetype": "text/x-python",
   "name": "python",
   "nbconvert_exporter": "python",
   "pygments_lexer": "ipython3",
   "version": "3.8.12"
  }
 },
 "nbformat": 4,
 "nbformat_minor": 5
}
